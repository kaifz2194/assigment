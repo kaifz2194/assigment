{
 "cells": [
  {
   "cell_type": "code",
   "execution_count": 1,
   "id": "3eadcc31-f264-483f-9a01-bc9eeef5dbfb",
   "metadata": {},
   "outputs": [
    {
     "data": {
      "text/plain": [
       "str"
      ]
     },
     "execution_count": 1,
     "metadata": {},
     "output_type": "execute_result"
    }
   ],
   "source": [
    "# 1.Create one variable containing following type of data:\n",
    "a=('ansari kaif')\n",
    "type(a)"
   ]
  },
  {
   "cell_type": "code",
   "execution_count": 2,
   "id": "674c2538-e114-4777-9790-b11cc778c673",
   "metadata": {},
   "outputs": [
    {
     "data": {
      "text/plain": [
       "list"
      ]
     },
     "execution_count": 2,
     "metadata": {},
     "output_type": "execute_result"
    }
   ],
   "source": [
    "b=['kaif',41,0.2,False]\n",
    "type(b)"
   ]
  },
  {
   "cell_type": "code",
   "execution_count": 3,
   "id": "f7018a68-2cca-4d56-9bf1-62b78382e4ec",
   "metadata": {},
   "outputs": [
    {
     "data": {
      "text/plain": [
       "float"
      ]
     },
     "execution_count": 3,
     "metadata": {},
     "output_type": "execute_result"
    }
   ],
   "source": [
    "c=147.02\n",
    "type(c)"
   ]
  },
  {
   "cell_type": "code",
   "execution_count": 4,
   "id": "cf1f1346-caf5-467b-9a5a-6f7ca665893f",
   "metadata": {},
   "outputs": [
    {
     "data": {
      "text/plain": [
       "tuple"
      ]
     },
     "execution_count": 4,
     "metadata": {},
     "output_type": "execute_result"
    }
   ],
   "source": [
    "d=('kaif',True,24,'abcd',65.05)\n",
    "type(d)"
   ]
  },
  {
   "cell_type": "code",
   "execution_count": 5,
   "id": "64a8bc18-dded-442f-a07f-389f41725aef",
   "metadata": {},
   "outputs": [],
   "source": [
    "# 2.Give are some following variable containing data ?"
   ]
  },
  {
   "cell_type": "code",
   "execution_count": 6,
   "id": "3d5e6d4a-5c7a-49c6-b004-5f26a5dde39d",
   "metadata": {},
   "outputs": [],
   "source": [
    " var1='this is right answer'"
   ]
  },
  {
   "cell_type": "code",
   "execution_count": 7,
   "id": "b7c62b2a-0945-466a-945a-fffe79f488e0",
   "metadata": {},
   "outputs": [],
   "source": [
    "# 3.explain the use of the following using an example ?"
   ]
  },
  {
   "cell_type": "code",
   "execution_count": 8,
   "id": "a9a48cf8-9e90-48d7-9fca-c51427553cc9",
   "metadata": {},
   "outputs": [
    {
     "data": {
      "text/plain": [
       "0.8333333333333334"
      ]
     },
     "execution_count": 8,
     "metadata": {},
     "output_type": "execute_result"
    }
   ],
   "source": [
    "5/6"
   ]
  },
  {
   "cell_type": "code",
   "execution_count": 9,
   "id": "09e58c58-b89b-41f9-9b37-6ad95b97b6b9",
   "metadata": {},
   "outputs": [
    {
     "data": {
      "text/plain": [
       "2"
      ]
     },
     "execution_count": 9,
     "metadata": {},
     "output_type": "execute_result"
    }
   ],
   "source": [
    "7%5"
   ]
  },
  {
   "cell_type": "code",
   "execution_count": 10,
   "id": "eb81ce32-b9bb-4ec7-89fa-7c184f82e686",
   "metadata": {},
   "outputs": [
    {
     "data": {
      "text/plain": [
       "4"
      ]
     },
     "execution_count": 10,
     "metadata": {},
     "output_type": "execute_result"
    }
   ],
   "source": [
    "9//2"
   ]
  },
  {
   "cell_type": "code",
   "execution_count": 11,
   "id": "7e40a462-0412-49b3-868a-68ef248456e4",
   "metadata": {},
   "outputs": [
    {
     "data": {
      "text/plain": [
       "25"
      ]
     },
     "execution_count": 11,
     "metadata": {},
     "output_type": "execute_result"
    }
   ],
   "source": [
    "5**2"
   ]
  },
  {
   "cell_type": "code",
   "execution_count": 12,
   "id": "0e0e052b-cda3-4165-b8b3-7b0490238789",
   "metadata": {},
   "outputs": [],
   "source": [
    "# 4.Creat a list of lenght 10 your choice contaninig muliple types of data using for oop print the element and its data type ?"
   ]
  },
  {
   "cell_type": "code",
   "execution_count": 13,
   "id": "aadc714d-d136-4020-a66c-324789655774",
   "metadata": {},
   "outputs": [
    {
     "name": "stdout",
     "output_type": "stream",
     "text": [
      "1\n",
      "2\n",
      "3\n",
      "4\n",
      "5\n",
      "6\n",
      "7\n",
      "8\n",
      "9\n"
     ]
    }
   ],
   "source": [
    "a=10\n",
    "b=1\n",
    "while a>b :\n",
    "    print(b)\n",
    "    b=b+1"
   ]
  },
  {
   "cell_type": "code",
   "execution_count": 14,
   "id": "0c1c835d-779c-4df5-9af6-811908c4fd7a",
   "metadata": {},
   "outputs": [],
   "source": [
    "# Using a while loop, verify if the number A is purely divisible by number B and if so then how many times it can be divisible"
   ]
  },
  {
   "cell_type": "code",
   "execution_count": 15,
   "id": "da9c2838-df9b-4bff-974c-53e1fc5d66a7",
   "metadata": {},
   "outputs": [
    {
     "name": "stdin",
     "output_type": "stream",
     "text": [
      " 10\n",
      " 20\n"
     ]
    }
   ],
   "source": [
    "a=int(input())\n",
    "b=int(input())"
   ]
  },
  {
   "cell_type": "code",
   "execution_count": 21,
   "id": "09c6cedd-5596-4c17-b545-34bddf0b565d",
   "metadata": {},
   "outputs": [
    {
     "name": "stdout",
     "output_type": "stream",
     "text": [
      "2.5\n",
      "5.0\n",
      "7.5\n",
      "10.0\n",
      "12.5\n",
      "yes 15 is large\n"
     ]
    }
   ],
   "source": [
    "a=15\n",
    "b=2.5\n",
    "while a>b :\n",
    "    print(b)\n",
    "    b=b+2.5\n",
    "if 2.5<15:\n",
    "    print(\"yes 15 is large\")\n",
    "else:\n",
    "    print('ok')"
   ]
  },
  {
   "cell_type": "code",
   "execution_count": null,
   "id": "43bdcb23-f1df-4f93-88d1-81a14349ccb3",
   "metadata": {},
   "outputs": [],
   "source": [
    "# Create a list containing 25 int type data. Using for loop and if-else condition print if the element is divisible by 3 or not\n",
    "\n"
   ]
  },
  {
   "cell_type": "code",
   "execution_count": 25,
   "id": "e56655c6-0961-47ae-96a4-aa174603a7d2",
   "metadata": {},
   "outputs": [
    {
     "name": "stdout",
     "output_type": "stream",
     "text": [
      "15 is divisible by 3\n",
      "44 is not divisible by 3\n",
      "68 is not divisible by 3\n",
      "25 is not divisible by 3\n",
      "5 is not divisible by 3\n",
      "36 is divisible by 3\n",
      "23 is not divisible by 3\n",
      "11 is not divisible by 3\n",
      "20 is not divisible by 3\n",
      "95 is not divisible by 3\n",
      "4 is not divisible by 3\n",
      "41 is not divisible by 3\n",
      "68 is not divisible by 3\n",
      "21 is divisible by 3\n",
      "6 is divisible by 3\n",
      "9 is divisible by 3\n",
      "10 is not divisible by 3\n",
      "18 is divisible by 3\n",
      "12 is divisible by 3\n",
      "5 is not divisible by 3\n",
      "21 is divisible by 3\n",
      "30 is divisible by 3\n",
      "7 is not divisible by 3\n",
      "8 is not divisible by 3\n",
      "32 is not divisible by 3\n"
     ]
    }
   ],
   "source": [
    "abc = [15,44,68,25,5,36,23,11,20,95,4,41,68,21,6,9,10,18,12,5,21,30,7,8,32]\n",
    "for xyz in abc:\n",
    "    if xyz % 3 == 0:\n",
    "        print(xyz, \"is divisible by 3\")\n",
    "    else:\n",
    "        print(xyz, \"is not divisible by 3\")"
   ]
  },
  {
   "cell_type": "code",
   "execution_count": null,
   "id": "dacc8951-4f09-4f4e-ae4a-ae5dfa7fdfcf",
   "metadata": {},
   "outputs": [],
   "source": [
    "# What do you understand about mutable and immutable data types? Give examples for both showing this property"
   ]
  },
  {
   "cell_type": "code",
   "execution_count": 26,
   "id": "70140883-7260-4ab8-8774-430ad394534a",
   "metadata": {},
   "outputs": [
    {
     "name": "stdout",
     "output_type": "stream",
     "text": [
      "kaif\n",
      "Maif\n"
     ]
    }
   ],
   "source": [
    "name = \"kaif\"\n",
    "modified_name = name.replace(\"k\", \"M\")\n",
    "print(name)\n",
    "print(modified_name)"
   ]
  },
  {
   "cell_type": "code",
   "execution_count": 27,
   "id": "04f33481-8f8f-4d1a-960f-7b4f5008ed57",
   "metadata": {},
   "outputs": [
    {
     "name": "stdout",
     "output_type": "stream",
     "text": [
      "[1, 5, 3, 4]\n"
     ]
    }
   ],
   "source": [
    "ab = [1, 2, 3]\n",
    "ab.append(4)\n",
    "ab[1] = 5\n",
    "print(ab)"
   ]
  },
  {
   "cell_type": "code",
   "execution_count": null,
   "id": "b9baedf6-eba0-464a-b9d5-ec62a3b673fa",
   "metadata": {},
   "outputs": [],
   "source": []
  }
 ],
 "metadata": {
  "kernelspec": {
   "display_name": "Python 3 (ipykernel)",
   "language": "python",
   "name": "python3"
  },
  "language_info": {
   "codemirror_mode": {
    "name": "ipython",
    "version": 3
   },
   "file_extension": ".py",
   "mimetype": "text/x-python",
   "name": "python",
   "nbconvert_exporter": "python",
   "pygments_lexer": "ipython3",
   "version": "3.10.8"
  }
 },
 "nbformat": 4,
 "nbformat_minor": 5
}
